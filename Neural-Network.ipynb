{
 "cells": [
  {
   "cell_type": "markdown",
   "id": "c82f62cb",
   "metadata": {},
   "source": [
    "# Assignment 4 – Regression Using a Neural Network\n",
    "\n",
    "## Dr. Sabah Sayed\n",
    "## Ahmed Mohamed Sallam  20210614\n",
    "## Omar Walid Ahmed 20201126\n",
    "## Ahmed Alaa 20200029\n",
    "\n",
    "### CS S1,2"
   ]
  },
  {
   "cell_type": "code",
   "execution_count": 1,
   "id": "b360c2a9",
   "metadata": {},
   "outputs": [],
   "source": [
    "import pandas as pd \n",
    "import matplotlib.pyplot as plt\n",
    "import numpy as np\n",
    "import seaborn as sns \n",
    "%matplotlib inline"
   ]
  },
  {
   "cell_type": "code",
   "execution_count": 2,
   "id": "d5888730",
   "metadata": {},
   "outputs": [],
   "source": [
    "from sklearn.preprocessing import LabelEncoder,OrdinalEncoder\n",
    "from sklearn.model_selection import train_test_split"
   ]
  },
  {
   "cell_type": "code",
   "execution_count": 3,
   "id": "7840f7eb",
   "metadata": {},
   "outputs": [
    {
     "name": "stdout",
     "output_type": "stream",
     "text": [
      "['concrete_data']\n"
     ]
    }
   ],
   "source": [
    "data = pd.ExcelFile('concrete_data.xlsx')\n",
    "print(data.sheet_names)\n",
    "df = data.parse('concrete_data')"
   ]
  },
  {
   "cell_type": "code",
   "execution_count": 4,
   "id": "2e811377",
   "metadata": {},
   "outputs": [
    {
     "data": {
      "text/html": [
       "<div>\n",
       "<style scoped>\n",
       "    .dataframe tbody tr th:only-of-type {\n",
       "        vertical-align: middle;\n",
       "    }\n",
       "\n",
       "    .dataframe tbody tr th {\n",
       "        vertical-align: top;\n",
       "    }\n",
       "\n",
       "    .dataframe thead th {\n",
       "        text-align: right;\n",
       "    }\n",
       "</style>\n",
       "<table border=\"1\" class=\"dataframe\">\n",
       "  <thead>\n",
       "    <tr style=\"text-align: right;\">\n",
       "      <th></th>\n",
       "      <th>cement</th>\n",
       "      <th>water</th>\n",
       "      <th>superplasticizer</th>\n",
       "      <th>age</th>\n",
       "      <th>concrete_compressive_strength</th>\n",
       "    </tr>\n",
       "  </thead>\n",
       "  <tbody>\n",
       "    <tr>\n",
       "      <th>0</th>\n",
       "      <td>540.0</td>\n",
       "      <td>162.0</td>\n",
       "      <td>2.5</td>\n",
       "      <td>28</td>\n",
       "      <td>79.99</td>\n",
       "    </tr>\n",
       "    <tr>\n",
       "      <th>1</th>\n",
       "      <td>540.0</td>\n",
       "      <td>162.0</td>\n",
       "      <td>2.5</td>\n",
       "      <td>28</td>\n",
       "      <td>61.89</td>\n",
       "    </tr>\n",
       "    <tr>\n",
       "      <th>2</th>\n",
       "      <td>332.5</td>\n",
       "      <td>228.0</td>\n",
       "      <td>0.0</td>\n",
       "      <td>270</td>\n",
       "      <td>40.27</td>\n",
       "    </tr>\n",
       "    <tr>\n",
       "      <th>3</th>\n",
       "      <td>332.5</td>\n",
       "      <td>228.0</td>\n",
       "      <td>0.0</td>\n",
       "      <td>365</td>\n",
       "      <td>41.05</td>\n",
       "    </tr>\n",
       "    <tr>\n",
       "      <th>4</th>\n",
       "      <td>198.6</td>\n",
       "      <td>192.0</td>\n",
       "      <td>0.0</td>\n",
       "      <td>360</td>\n",
       "      <td>44.30</td>\n",
       "    </tr>\n",
       "  </tbody>\n",
       "</table>\n",
       "</div>"
      ],
      "text/plain": [
       "   cement  water  superplasticizer  age  concrete_compressive_strength\n",
       "0   540.0  162.0               2.5   28                          79.99\n",
       "1   540.0  162.0               2.5   28                          61.89\n",
       "2   332.5  228.0               0.0  270                          40.27\n",
       "3   332.5  228.0               0.0  365                          41.05\n",
       "4   198.6  192.0               0.0  360                          44.30"
      ]
     },
     "metadata": {},
     "output_type": "display_data"
    }
   ],
   "source": [
    "display(df.head())"
   ]
  },
  {
   "cell_type": "code",
   "execution_count": 5,
   "id": "62efe72e",
   "metadata": {},
   "outputs": [
    {
     "name": "stdout",
     "output_type": "stream",
     "text": [
      "<class 'pandas.core.frame.DataFrame'>\n",
      "RangeIndex: 700 entries, 0 to 699\n",
      "Data columns (total 5 columns):\n",
      " #   Column                         Non-Null Count  Dtype  \n",
      "---  ------                         --------------  -----  \n",
      " 0   cement                         700 non-null    float64\n",
      " 1   water                          700 non-null    float64\n",
      " 2   superplasticizer               700 non-null    float64\n",
      " 3   age                            700 non-null    int64  \n",
      " 4   concrete_compressive_strength  700 non-null    float64\n",
      "dtypes: float64(4), int64(1)\n",
      "memory usage: 27.5 KB\n"
     ]
    },
    {
     "data": {
      "text/plain": [
       "None"
      ]
     },
     "metadata": {},
     "output_type": "display_data"
    }
   ],
   "source": [
    "display(df.info())"
   ]
  },
  {
   "cell_type": "code",
   "execution_count": 6,
   "id": "f7fa059a",
   "metadata": {},
   "outputs": [
    {
     "name": "stdout",
     "output_type": "stream",
     "text": [
      "           cement       water  superplasticizer         age  \\\n",
      "count  700.000000  700.000000        700.000000  700.000000   \n",
      "mean   286.917286  178.059857          6.506857   49.010000   \n",
      "std    101.379325   23.030158          6.289468   68.400978   \n",
      "min    102.000000  121.800000          0.000000    3.000000   \n",
      "25%    212.000000  159.500000          0.000000    7.000000   \n",
      "50%    254.000000  178.500000          6.500000   28.000000   \n",
      "75%    374.000000  192.000000         10.900000   56.000000   \n",
      "max    540.000000  228.000000         32.200000  365.000000   \n",
      "\n",
      "       concrete_compressive_strength  \n",
      "count                     700.000000  \n",
      "mean                       37.642514  \n",
      "std                        17.607925  \n",
      "min                         2.330000  \n",
      "25%                        24.280000  \n",
      "50%                        36.615000  \n",
      "75%                        50.120000  \n",
      "max                        82.600000  \n"
     ]
    },
    {
     "data": {
      "image/png": "[encoded data removed]",
      "text/plain": [
       "<Figure size 640x480 with 1 Axes>"
      ]
     },
     "metadata": {},
     "output_type": "display_data"
    }
   ],
   "source": [
    "print(df.describe())\n",
    "sns.boxplot(df)\n",
    "plt.show()"
   ]
  },
  {
   "cell_type": "code",
   "execution_count": 7,
   "id": "731c0e0d",
   "metadata": {},
   "outputs": [
    {
     "data": {
      "image/png": "[encoded data removed]",
      "text/plain": [
       "<Figure size 640x480 with 2 Axes>"
      ]
     },
     "metadata": {},
     "output_type": "display_data"
    }
   ],
   "source": [
    "sns.heatmap(df.corr(numeric_only = True),annot=True)\n",
    "plt.show()"
   ]
  },
  {
   "cell_type": "code",
   "execution_count": 8,
   "id": "a12960e1",
   "metadata": {},
   "outputs": [],
   "source": [
    "features = df.iloc[:, :-1].values  # First four columns\n",
    "target = df.iloc[:, -1].values  # Last column\n",
    "features = (features - features.mean(axis=0)) / features.std(axis=0)"
   ]
  },
  {
   "cell_type": "code",
   "execution_count": 9,
   "id": "86746244",
   "metadata": {},
   "outputs": [],
   "source": [
    "def train_test_split_manual(data, target, test_size=0.25, random_state=None):\n",
    "    if random_state:\n",
    "        np.random.seed(random_state)\n",
    "\n",
    "    num_samples = len(data)\n",
    "    indices = np.arange(num_samples)\n",
    "    np.random.shuffle(indices)\n",
    "\n",
    "    split_index = int((1 - test_size) * num_samples)\n",
    "\n",
    "    train_indices, test_indices = indices[:split_index], indices[split_index:]\n",
    "    X_train, X_test = data[train_indices], data[test_indices]\n",
    "    y_train, y_test = target[train_indices], target[test_indices]\n",
    "\n",
    "    return X_train, X_test, y_train, y_test"
   ]
  },
  {
   "cell_type": "code",
   "execution_count": 10,
   "id": "4c69877d",
   "metadata": {},
   "outputs": [
    {
     "name": "stdout",
     "output_type": "stream",
     "text": [
      "(525, 4) (525,)\n",
      "[1.50120807 0.34501806 0.73081336 0.10226459] 71.7\n"
     ]
    }
   ],
   "source": [
    "df = np.array([df])\n",
    "X, X_test, y, y_test = train_test_split_manual(features, target, test_size=0.25, random_state=42)\n",
    "print(X.shape, y.shape )\n",
    "print(X[0],y[0])"
   ]
  },
  {
   "cell_type": "code",
   "execution_count": 14,
   "id": "2ea70820-d962-43d4-a561-a786d566a830",
   "metadata": {},
   "outputs": [],
   "source": [
    "@staticmethod\n",
    "def sigmoid(x):\n",
    "    clipped_x = np.clip(x, -700, 700)\n",
    "    return 1 / (1 + np.exp(-clipped_x))\n",
    "class NeuralNetwork:\n",
    "    def __init__(self, input_size, hidden_size, output_size, learning_rate, epochs):\n",
    "        self.input_size = input_size\n",
    "        self.hidden_size = hidden_size\n",
    "        self.output_size = output_size\n",
    "        self.learning_rate = learning_rate\n",
    "        self.epochs = epochs\n",
    "\n",
    "        self.weights_input_hidden = np.random.randn(self.input_size, self.hidden_size) \n",
    "        self.bias_hidden = np.zeros((1, self.hidden_size))\n",
    "        self.weights_hidden_output = np.random.randn(self.hidden_size, self.output_size)\n",
    "        self.bias_output = np.zeros((1, self.output_size))\n",
    "\n",
    "    def train(self, X, y):\n",
    "        for epoch in range(self.epochs):\n",
    "            # Forward pass\n",
    "            hidden_layer_input = np.dot(X, self.weights_input_hidden) + self.bias_hidden\n",
    "            hidden_layer_output = sigmoid(hidden_layer_input)  # Sigmoid activation\n",
    "            output_layer_input = np.dot(hidden_layer_output, self.weights_hidden_output) + self.bias_output\n",
    "            predicted_output = output_layer_input  # Linear activation for regression\n",
    "        \n",
    "            # Compute loss (mean squared error)\n",
    "            loss = np.mean((predicted_output - y.reshape(-1, 1))**2)\n",
    "        \n",
    "            # Backward pass\n",
    "            output_error = predicted_output - y.reshape(-1, 1)\n",
    "            hidden_error = np.dot(output_error, self.weights_hidden_output.T) * hidden_layer_output * (1 - hidden_layer_output)\n",
    "        \n",
    "            # Update weights and biases\n",
    "            self.weights_hidden_output -= learning_rate * np.dot(hidden_layer_output.T, output_error)\n",
    "            self.bias_output -= learning_rate * np.sum(output_error, axis=0, keepdims=True)\n",
    "            self.weights_input_hidden -= learning_rate * np.dot(X.T, hidden_error)\n",
    "            self.bias_hidden -= learning_rate * np.sum(hidden_error, axis=0, keepdims=True)\n",
    "            r_squared = self.calculate_r_squared(self.predict(X), y)\n",
    "            \n",
    "            # Print loss every 100 epochs\n",
    "            if epoch % 100 == 0:\n",
    "                print(f\"Epoch {epoch}, Loss: {loss}\")\n",
    "\n",
    "\n",
    "    def predict(self, X):\n",
    "        hidden_layer_input = np.dot(X, self.weights_input_hidden) + self.bias_hidden\n",
    "        hidden_layer_output = 1 / (1 + np.exp(-hidden_layer_input))\n",
    "        output_layer_input = np.dot(hidden_layer_output, self.weights_hidden_output) + self.bias_output\n",
    "        predicted_output = output_layer_input\n",
    "        return predicted_output.flatten()\n",
    "\n",
    "\n",
    "    def calculate_error(self, X, y):\n",
    "        predictions = self.predict(X)\n",
    "        error = np.mean((predictions - y) ** 2)\n",
    "        return error\n",
    "    \n",
    "    def calculate_r_squared(self, y_true, y_pred):\n",
    "        ss_total = np.sum((y_true - np.mean(y_true))**2)\n",
    "        ss_residual = np.sum((y_true - y_pred)**2)\n",
    "        r2 = 1 - (ss_residual / ss_total)\n",
    "        return r2"
   ]
  },
  {
   "cell_type": "code",
   "execution_count": 15,
   "id": "94c21a02-5964-44c4-9667-b1a10386f493",
   "metadata": {},
   "outputs": [],
   "source": [
    "input_size = X.shape[1]\n",
    "hidden_size = 15  # You can adjust this based on experimentation\n",
    "output_size = 1\n",
    "learning_rate = 0.0001\n",
    "epochs = 1000"
   ]
  },
  {
   "cell_type": "code",
   "execution_count": 16,
   "id": "37e2a87b-176e-40bf-96d1-5c8cf2fccc11",
   "metadata": {},
   "outputs": [
    {
     "name": "stdout",
     "output_type": "stream",
     "text": [
      "Epoch 0, Loss: 1672.5308148271624\n",
      "Epoch 100, Loss: 68.97260802425042\n",
      "Epoch 200, Loss: 60.22171075593067\n",
      "Epoch 300, Loss: 57.25794048770516\n",
      "Epoch 400, Loss: 55.76604719075153\n",
      "Epoch 500, Loss: 54.806744753839254\n",
      "Epoch 600, Loss: 53.99218565929864\n",
      "Epoch 700, Loss: 53.08098087499655\n",
      "Epoch 800, Loss: 52.22810894476873\n",
      "Epoch 900, Loss: 51.330959887858704\n"
     ]
    }
   ],
   "source": [
    "nn = NeuralNetwork(input_size, hidden_size, output_size, learning_rate, epochs)\n",
    "nn.train(X, y)"
   ]
  },
  {
   "cell_type": "code",
   "execution_count": 19,
   "id": "6481d0a8-db28-4822-8d7e-14a7506c6e29",
   "metadata": {},
   "outputs": [
    {
     "name": "stdout",
     "output_type": "stream",
     "text": [
      "Test Error: 55.454776116697964\n",
      "(175,) (175,)\n",
      "0.7626124720152756\n",
      "Predicted Strength for New Data Point: [59.3180827]\n"
     ]
    }
   ],
   "source": [
    "test_error = nn.calculate_error(X_test, y_test)\n",
    "print(f'Test Error: {test_error}')\n",
    "predicted = nn.predict(X_test) \n",
    "print(predicted.shape, y_test.shape)\n",
    "print(nn.calculate_r_squared(predicted,y_test))\n",
    "\n",
    "# Example prediction for a new data point\n",
    "new_data_point = np.array([[540, 162, 2.5, 28]])  # Replace with your values\n",
    "predicted_strength = nn.predict(new_data_point)\n",
    "print(f'Predicted Strength for New Data Point: {predicted_strength}')"
   ]
  },
  {
   "cell_type": "markdown",
   "id": "7915ce7e",
   "metadata": {},
   "source": [
    "# Feedforward neural network using TensorFlow"
   ]
  },
  {
   "cell_type": "code",
   "execution_count": null,
   "id": "9622d066",
   "metadata": {},
   "outputs": [],
   "source": [
    "import tensorflow as tf\n",
    "from tensorflow.keras.callbacks import Callback"
   ]
  },
  {
   "cell_type": "code",
   "execution_count": null,
   "id": "d2923384",
   "metadata": {},
   "outputs": [],
   "source": [
    "model = tf.keras.Sequential([\n",
    "    tf.keras.layers.Input(shape=(X.shape[1],)),\n",
    "    tf.keras.layers.Dense(units=8, activation='sigmoid'),  # Hidden layer with sigmoid activation\n",
    "    tf.keras.layers.Dense(units=1)  # Output layer (linear activation for regression)\n",
    "])"
   ]
  },
  {
   "cell_type": "code",
   "execution_count": null,
   "id": "7e1fded6",
   "metadata": {},
   "outputs": [],
   "source": [
    "model.compile(optimizer='adam', loss='mean_squared_error')"
   ]
  },
  {
   "cell_type": "code",
   "execution_count": null,
   "id": "a94c5dca",
   "metadata": {},
   "outputs": [],
   "source": [
    "# Define a custom callback to print every 100 epochs\n",
    "class PrintEveryNthEpoch(Callback):\n",
    "    def __init__(self, print_frequency=100):\n",
    "        self.print_frequency = print_frequency\n",
    "\n",
    "    def on_epoch_end(self, epoch, logs=None):\n",
    "        if epoch % self.print_frequency == 0:\n",
    "            print(f'Epoch {epoch}, Loss: {logs[\"loss\"]}')\n",
    "\n",
    "# Assuming X and y are your input data and labels\n",
    "model.fit(X, y, epochs=1000, batch_size=32, verbose=0, callbacks=[PrintEveryNthEpoch(100)])"
   ]
  },
  {
   "cell_type": "code",
   "execution_count": null,
   "id": "fcfd8633",
   "metadata": {},
   "outputs": [],
   "source": [
    "train_loss = model.evaluate(X, y, verbose=0)\n",
    "test_loss = model.evaluate(X_test, y_test, verbose=0)\n",
    "\n",
    "print(f\"Training Loss: {train_loss}\")\n",
    "print(f\"Testing Loss: {test_loss}\")"
   ]
  },
  {
   "cell_type": "code",
   "execution_count": null,
   "id": "c8ff3ffd-e33d-44c9-9a8e-b09d00f6913e",
   "metadata": {},
   "outputs": [],
   "source": []
  }
 ],
 "metadata": {
  "kernelspec": {
   "display_name": "Python 3 (ipykernel)",
   "language": "python",
   "name": "python3"
  },
  "language_info": {
   "codemirror_mode": {
    "name": "ipython",
    "version": 3
   },
   "file_extension": ".py",
   "mimetype": "text/x-python",
   "name": "python",
   "nbconvert_exporter": "python",
   "pygments_lexer": "ipython3",
   "version": "3.11.5"
  },
  "varInspector": {
   "cols": {
    "lenName": 16,
    "lenType": 16,
    "lenVar": 40
   },
   "kernels_config": {
    "python": {
     "delete_cmd_postfix": "",
     "delete_cmd_prefix": "del ",
     "library": "var_list.py",
     "varRefreshCmd": "print(var_dic_list())"
    },
    "r": {
     "delete_cmd_postfix": ") ",
     "delete_cmd_prefix": "rm(",
     "library": "var_list.r",
     "varRefreshCmd": "cat(var_dic_list()) "
    }
   },
   "types_to_exclude": [
    "module",
    "function",
    "builtin_function_or_method",
    "instance",
    "_Feature"
   ],
   "window_display": false
  }
 },
 "nbformat": 4,
 "nbformat_minor": 5
}
